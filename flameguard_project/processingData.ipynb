{
 "cells": [
  {
   "cell_type": "code",
   "execution_count": 1,
   "id": "f99bf4ca",
   "metadata": {},
   "outputs": [],
   "source": [
    "import pandas as pd"
   ]
  },
  {
   "cell_type": "code",
   "execution_count": 2,
   "id": "8aa97b08",
   "metadata": {},
   "outputs": [],
   "source": [
    "df = pd.read_csv('./forestfires.csv')\n",
    "\n",
    "\n",
    "df['fire'] = (df['area'] > 0).astype(int)"
   ]
  },
  {
   "cell_type": "code",
   "execution_count": 3,
   "id": "82ce59fc",
   "metadata": {},
   "outputs": [],
   "source": [
    "group_features = ['X','Y','month','day','FFMC','DMC','DC','ISI','temp','RH','wind','rain']"
   ]
  },
  {
   "cell_type": "code",
   "execution_count": 4,
   "id": "72b61455",
   "metadata": {},
   "outputs": [],
   "source": [
    "for col in ['FFMC','DMC','DC','ISI','temp','RH','wind','rain']:\n",
    "    df[col] = df[col].round(1)"
   ]
  },
  {
   "cell_type": "code",
   "execution_count": 5,
   "id": "a3db2085",
   "metadata": {},
   "outputs": [],
   "source": [
    "grouped = df.groupby(group_features)"
   ]
  },
  {
   "cell_type": "code",
   "execution_count": 6,
   "id": "715f3ad2",
   "metadata": {},
   "outputs": [],
   "source": [
    "noisy_groups = []\n",
    "for name, group in grouped:\n",
    "    if group['fire'].nunique() > 1:\n",
    "        noisy_groups.append(group)"
   ]
  },
  {
   "cell_type": "code",
   "execution_count": 7,
   "id": "baa8a4ea",
   "metadata": {},
   "outputs": [],
   "source": [
    "# Combine into one DataFrame\n",
    "noisy_df = pd.concat(noisy_groups)"
   ]
  },
  {
   "cell_type": "code",
   "execution_count": 8,
   "id": "36dc4481",
   "metadata": {},
   "outputs": [
    {
     "name": "stdout",
     "output_type": "stream",
     "text": [
      "Found 8 noisy rows out of 517 total rows.\n",
      "\n",
      "Sample noisy rows:\n",
      "     X  Y month  day  FFMC    DMC     DC   ISI  temp  RH  wind  rain  area  \\\n",
      "347  5  4   sep  fri  92.1   99.0  745.3   9.6  10.1  75   3.6   0.0  0.00   \n",
      "350  5  4   sep  fri  92.1   99.0  745.3   9.6  10.1  75   3.6   0.0  3.71   \n",
      "26   7  4   sep  fri  92.4  117.9  668.0  12.2  19.0  34   5.8   0.0  0.00   \n",
      "159  7  4   sep  fri  92.4  117.9  668.0  12.2  19.0  34   5.8   0.0  1.69   \n",
      "458  8  6   aug  sat  93.7  231.1  715.1   8.4  18.9  64   4.9   0.0  3.32   \n",
      "461  8  6   aug  sat  93.7  231.1  715.1   8.4  18.9  64   4.9   0.0  0.00   \n",
      "399  9  5   jun  wed  93.3   49.5  297.7  14.0  28.0  34   4.5   0.0  0.00   \n",
      "400  9  5   jun  wed  93.3   49.5  297.7  14.0  28.0  34   4.5   0.0  8.16   \n",
      "\n",
      "     fire  \n",
      "347     0  \n",
      "350     1  \n",
      "26      0  \n",
      "159     1  \n",
      "458     1  \n",
      "461     0  \n",
      "399     0  \n",
      "400     1  \n"
     ]
    }
   ],
   "source": [
    "print(f\"Found {len(noisy_df)} noisy rows out of {len(df)} total rows.\")\n",
    "print(\"\\nSample noisy rows:\")\n",
    "print(noisy_df.head(10))"
   ]
  },
  {
   "cell_type": "code",
   "execution_count": 9,
   "id": "0bc512e9",
   "metadata": {},
   "outputs": [
    {
     "data": {
      "text/plain": [
       "X        517\n",
       "Y        517\n",
       "month    517\n",
       "day      517\n",
       "FFMC     517\n",
       "DMC      517\n",
       "DC       517\n",
       "ISI      517\n",
       "temp     517\n",
       "RH       517\n",
       "wind     517\n",
       "rain     517\n",
       "area     517\n",
       "fire     517\n",
       "dtype: int64"
      ]
     },
     "execution_count": 9,
     "metadata": {},
     "output_type": "execute_result"
    }
   ],
   "source": [
    "df.count()"
   ]
  }
 ],
 "metadata": {
  "kernelspec": {
   "display_name": "flameguardVenv",
   "language": "python",
   "name": "python3"
  },
  "language_info": {
   "codemirror_mode": {
    "name": "ipython",
    "version": 3
   },
   "file_extension": ".py",
   "mimetype": "text/x-python",
   "name": "python",
   "nbconvert_exporter": "python",
   "pygments_lexer": "ipython3",
   "version": "3.13.3"
  }
 },
 "nbformat": 4,
 "nbformat_minor": 5
}
